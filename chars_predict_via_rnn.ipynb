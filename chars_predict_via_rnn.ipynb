{
 "cells": [
  {
   "metadata": {},
   "cell_type": "markdown",
   "source": "# Импорт библиотек",
   "id": "74ca914cf4bf75d7"
  },
  {
   "metadata": {
    "ExecuteTime": {
     "end_time": "2024-10-25T06:46:59.338009Z",
     "start_time": "2024-10-25T06:46:38.325869Z"
    }
   },
   "cell_type": "code",
   "source": [
    "import matplotlib.pyplot as plt\n",
    "import numpy as np\n",
    "import torch\n",
    "from torch import nn\n",
    "from torch.nn import functional as F\n",
    "from torch.utils.data import DataLoader, Dataset\n",
    "from torch import optim\n",
    "from sklearn.model_selection import train_test_split\n",
    "import re"
   ],
   "id": "eca2d3f56a677d2e",
   "outputs": [],
   "execution_count": 1
  },
  {
   "metadata": {},
   "cell_type": "markdown",
   "source": "# Загрузка и обработка текста\n",
   "id": "2ccf48cf0ee1c91f"
  },
  {
   "metadata": {
    "ExecuteTime": {
     "end_time": "2024-10-25T06:47:02.787321Z",
     "start_time": "2024-10-25T06:47:02.763439Z"
    }
   },
   "cell_type": "code",
   "source": [
    "with open('train.txt', 'r', encoding='UTF-8') as file:\n",
    "    text = file.read().lower()\n",
    "    text = re.sub(r\"[^А-я ' ']\",'', text)\n",
    "print(text[:50])"
   ],
   "id": "1f14963c5aefc075",
   "outputs": [
    {
     "name": "stdout",
     "output_type": "stream",
     "text": [
      "раскольников не привык к толпе и как уже сказано б\n"
     ]
    }
   ],
   "execution_count": 2
  },
  {
   "metadata": {},
   "cell_type": "markdown",
   "source": "# Создание тестовой и обучающей выборок\n",
   "id": "ed57b53eb7fd115c"
  },
  {
   "metadata": {
    "ExecuteTime": {
     "end_time": "2024-10-25T06:47:06.284086Z",
     "start_time": "2024-10-25T06:47:05.534579Z"
    }
   },
   "cell_type": "code",
   "source": [
    "num_chars = 5\n",
    "char_list = list(text)\n",
    "\n",
    "x = np.array([char_list[i:i+num_chars] for i in range(len(char_list) - num_chars - 1)])\n",
    "y = np.array([char_list[i+num_chars] for i in range(len(char_list) - num_chars - 1)])\n",
    "\n",
    "y = np.expand_dims(y, 1)\n",
    "y.reshape(-1, 1)\n",
    "print(y.shape)\n",
    "# data = np.array([(x, y) for x, y in zip(x, y)])\n",
    "print(len(x), len(y))\n",
    "data = np.concatenate((x, y), axis=1)\n",
    "print(data.shape)"
   ],
   "id": "fdb962b7b9e3d69a",
   "outputs": [
    {
     "name": "stdout",
     "output_type": "stream",
     "text": [
      "(82276, 1)\n",
      "82276 82276\n",
      "(82276, 6)\n"
     ]
    }
   ],
   "execution_count": 3
  },
  {
   "metadata": {
    "ExecuteTime": {
     "end_time": "2024-10-25T06:47:06.378320Z",
     "start_time": "2024-10-25T06:47:06.361075Z"
    }
   },
   "cell_type": "code",
   "source": [
    "train_data, test_data = train_test_split(data, test_size=0.2, shuffle=True, random_state=42)\n",
    "test_data.shape, train_data.shape"
   ],
   "id": "9b21411c1868126e",
   "outputs": [
    {
     "data": {
      "text/plain": [
       "((16456, 6), (65820, 6))"
      ]
     },
     "execution_count": 4,
     "metadata": {},
     "output_type": "execute_result"
    }
   ],
   "execution_count": 4
  },
  {
   "metadata": {
    "ExecuteTime": {
     "end_time": "2024-10-25T06:47:09.723402Z",
     "start_time": "2024-10-25T06:47:09.708590Z"
    }
   },
   "cell_type": "code",
   "source": [
    "# создадим словарь из уникальных символов выборки\n",
    "vocab = set(char_list)\n",
    "vocab_size = len(vocab)\n",
    "print(len(vocab))\n",
    "char2idx = {char: idx for idx, char in enumerate(vocab, 1)}\n",
    "idx2char = list(vocab)\n",
    "print(char2idx)\n",
    "print(idx2char)"
   ],
   "id": "5bd7a01e7b596c09",
   "outputs": [
    {
     "name": "stdout",
     "output_type": "stream",
     "text": [
      "33\n",
      "{'я': 1, 'о': 2, 'к': 3, 'п': 4, ' ': 5, 'р': 6, 'б': 7, 'ф': 8, 'м': 9, 'ч': 10, 'л': 11, 'щ': 12, 'ъ': 13, 'д': 14, 'з': 15, 'у': 16, 'в': 17, 'е': 18, 'а': 19, 'ь': 20, 'с': 21, 'н': 22, 'и': 23, 'ш': 24, 'й': 25, 'х': 26, 'э': 27, 'ц': 28, 'г': 29, 'ю': 30, 'т': 31, 'ж': 32, 'ы': 33}\n",
      "['я', 'о', 'к', 'п', ' ', 'р', 'б', 'ф', 'м', 'ч', 'л', 'щ', 'ъ', 'д', 'з', 'у', 'в', 'е', 'а', 'ь', 'с', 'н', 'и', 'ш', 'й', 'х', 'э', 'ц', 'г', 'ю', 'т', 'ж', 'ы']\n"
     ]
    }
   ],
   "execution_count": 5
  },
  {
   "metadata": {
    "ExecuteTime": {
     "end_time": "2024-10-25T06:47:15.460121Z",
     "start_time": "2024-10-25T06:47:12.866115Z"
    }
   },
   "cell_type": "code",
   "source": [
    "def encoder_text(text):\n",
    "    encoding = []\n",
    "    for word in text:\n",
    "        encoding.append([char2idx[char] for char in word])\n",
    "    return encoding\n",
    "\n",
    "train_data = np.array([encoder_text(data) for data in train_data[:, :,]])\n",
    "test_data = np.array([encoder_text(data) for data in test_data[:, :,]])"
   ],
   "id": "4bff34785c7b46d0",
   "outputs": [],
   "execution_count": 6
  },
  {
   "metadata": {
    "ExecuteTime": {
     "end_time": "2024-10-25T06:47:15.467523Z",
     "start_time": "2024-10-25T06:47:15.461110Z"
    }
   },
   "cell_type": "code",
   "source": "train_data.shape",
   "id": "468117aa2808d980",
   "outputs": [
    {
     "data": {
      "text/plain": [
       "(65820, 6, 1)"
      ]
     },
     "execution_count": 7,
     "metadata": {},
     "output_type": "execute_result"
    }
   ],
   "execution_count": 7
  },
  {
   "metadata": {
    "ExecuteTime": {
     "end_time": "2024-10-25T06:47:23.014336Z",
     "start_time": "2024-10-25T06:47:23.004987Z"
    }
   },
   "cell_type": "code",
   "source": [
    "print(test_data[1, : -1])\n",
    "print(test_data[0, -1])"
   ],
   "id": "4bbec8d925ec5ccc",
   "outputs": [
    {
     "name": "stdout",
     "output_type": "stream",
     "text": [
      "[[18]\n",
      " [32]\n",
      " [14]\n",
      " [18]\n",
      " [ 5]]\n",
      "[2]\n"
     ]
    }
   ],
   "execution_count": 8
  },
  {
   "metadata": {
    "ExecuteTime": {
     "end_time": "2024-10-25T06:47:23.374622Z",
     "start_time": "2024-10-25T06:47:23.364721Z"
    }
   },
   "cell_type": "code",
   "source": [
    "# Создание датасета и загрузчика\n",
    "class CharPredictDataset(Dataset):\n",
    "    def __init__(self, data):\n",
    "        self.inputs = data[:, :-1]\n",
    "        self.labels = data[:, -1]\n",
    "    \n",
    "    def __len__(self):\n",
    "        return len(self.inputs)\n",
    "    \n",
    "    def __getitem__(self, idx):\n",
    "        input = self.inputs[idx]\n",
    "        label = self.labels[idx]\n",
    "        return torch.tensor(input, dtype=torch.long), torch.tensor(label, dtype=torch.long)\n",
    "    "
   ],
   "id": "9629673857d72e6a",
   "outputs": [],
   "execution_count": 9
  },
  {
   "metadata": {
    "ExecuteTime": {
     "end_time": "2024-10-25T06:47:25.738156Z",
     "start_time": "2024-10-25T06:47:25.732152Z"
    }
   },
   "cell_type": "code",
   "source": [
    "train_dataset = CharPredictDataset(train_data)\n",
    "test_dataset = CharPredictDataset(test_data)"
   ],
   "id": "17ca3bab5b2235bf",
   "outputs": [],
   "execution_count": 10
  },
  {
   "metadata": {
    "ExecuteTime": {
     "end_time": "2024-10-25T06:47:26.584665Z",
     "start_time": "2024-10-25T06:47:26.383698Z"
    }
   },
   "cell_type": "code",
   "source": "print(len(train_dataset), train_dataset[0])\n",
   "id": "3d63abacab088422",
   "outputs": [
    {
     "name": "stdout",
     "output_type": "stream",
     "text": [
      "65820 (tensor([[ 1],\n",
      "        [23],\n",
      "        [22],\n",
      "        [ 5],\n",
      "        [ 5]]), tensor([22]))\n"
     ]
    }
   ],
   "execution_count": 11
  },
  {
   "metadata": {
    "ExecuteTime": {
     "end_time": "2024-10-25T11:49:11.143205Z",
     "start_time": "2024-10-25T11:49:11.135197Z"
    }
   },
   "cell_type": "code",
   "source": [
    "batch_size = 3\n",
    "train_loader = DataLoader(train_dataset, batch_size=batch_size, shuffle=True)\n",
    "test_loader = DataLoader(test_dataset, batch_size=batch_size, shuffle=False)"
   ],
   "id": "674af618f581dd83",
   "outputs": [],
   "execution_count": 166
  },
  {
   "metadata": {
    "ExecuteTime": {
     "end_time": "2024-10-25T11:49:11.384204Z",
     "start_time": "2024-10-25T11:49:11.374198Z"
    }
   },
   "cell_type": "code",
   "source": "x = next(iter(test_loader))",
   "id": "b3ed29429e527d8d",
   "outputs": [],
   "execution_count": 167
  },
  {
   "metadata": {
    "ExecuteTime": {
     "end_time": "2024-10-25T11:49:11.768460Z",
     "start_time": "2024-10-25T11:49:11.762860Z"
    }
   },
   "cell_type": "code",
   "source": [
    "print(x[0].shape)\n",
    "print(x[1].shape)\n"
   ],
   "id": "ebb8a1777b9c154d",
   "outputs": [
    {
     "name": "stdout",
     "output_type": "stream",
     "text": [
      "torch.Size([3, 5, 1])\n",
      "torch.Size([3, 1])\n"
     ]
    }
   ],
   "execution_count": 168
  },
  {
   "metadata": {},
   "cell_type": "markdown",
   "source": "# Построение модели RNN",
   "id": "1f67ff6c81ad6381"
  },
  {
   "metadata": {
    "ExecuteTime": {
     "end_time": "2024-10-25T11:49:25.999703Z",
     "start_time": "2024-10-25T11:49:25.993965Z"
    }
   },
   "cell_type": "code",
   "source": [
    "class CharPredictRNN(nn.Module):\n",
    "    def __init__(self, vocab_size, embed_size, hidden_size, output_size):\n",
    "        super().__init__()\n",
    "        self.hidden_size = hidden_size\n",
    "        self.emb = nn.Embedding(vocab_size, embed_size)\n",
    "        self.rnn = nn.LSTM(embed_size, hidden_size, batch_first=True, num_layers=4, bidirectional=True)\n",
    "        self.fc = nn.Linear(hidden_size * 2, output_size)\n",
    "    \n",
    "    def forward(self, x):\n",
    "        #h0 = torch.zeros(1, x.size(0), self.hidden_size)\n",
    "        x = self.emb(x.reshape(x.shape[0], x.shape[1]))\n",
    "        out, _ = self.rnn(x)\n",
    "        out = self.fc(out[:, -1, :])\n",
    "        return out"
   ],
   "id": "437d5e0ff83b8cbf",
   "outputs": [],
   "execution_count": 169
  },
  {
   "metadata": {
    "ExecuteTime": {
     "end_time": "2024-10-25T11:49:28.843637Z",
     "start_time": "2024-10-25T11:49:28.838236Z"
    }
   },
   "cell_type": "code",
   "source": [
    "# hyperparameters\n",
    "vocab_size = len(vocab) +1\n",
    "embed_size = 80\n",
    "hidden_size = 80\n",
    "output_size = vocab_size"
   ],
   "id": "d6bb991b86ab7228",
   "outputs": [],
   "execution_count": 170
  },
  {
   "metadata": {
    "ExecuteTime": {
     "end_time": "2024-10-25T11:49:30.030854Z",
     "start_time": "2024-10-25T11:49:30.015137Z"
    }
   },
   "cell_type": "code",
   "source": "model = CharPredictRNN(vocab_size, embed_size, hidden_size, output_size)",
   "id": "12b9a77779869a1b",
   "outputs": [],
   "execution_count": 171
  },
  {
   "metadata": {
    "ExecuteTime": {
     "end_time": "2024-10-25T11:49:30.404238Z",
     "start_time": "2024-10-25T11:49:30.398240Z"
    }
   },
   "cell_type": "code",
   "source": "print(model)",
   "id": "92d153afe8e631fa",
   "outputs": [
    {
     "name": "stdout",
     "output_type": "stream",
     "text": [
      "CharPredictRNN(\n",
      "  (emb): Embedding(34, 80)\n",
      "  (rnn): LSTM(80, 80, num_layers=4, batch_first=True, bidirectional=True)\n",
      "  (fc): Linear(in_features=160, out_features=34, bias=True)\n",
      ")\n"
     ]
    }
   ],
   "execution_count": 172
  },
  {
   "metadata": {
    "ExecuteTime": {
     "end_time": "2024-10-25T11:49:34.871669Z",
     "start_time": "2024-10-25T11:49:34.865842Z"
    }
   },
   "cell_type": "code",
   "source": [
    "criterion = nn.CrossEntropyLoss()\n",
    "optimizer = optim.Adam(model.parameters(), lr=0.0006)"
   ],
   "id": "57714f35e88768e8",
   "outputs": [],
   "execution_count": 173
  },
  {
   "metadata": {
    "ExecuteTime": {
     "end_time": "2024-10-25T11:49:35.538443Z",
     "start_time": "2024-10-25T11:49:35.504792Z"
    }
   },
   "cell_type": "code",
   "source": [
    "x = next(iter(train_loader))\n",
    "input = x[0]\n",
    "res = model(x[0])\n",
    "label = x[1].reshape(batch_size)\n",
    "print(input.shape, res.shape, label.shape)"
   ],
   "id": "91ff412107b1ac70",
   "outputs": [
    {
     "name": "stdout",
     "output_type": "stream",
     "text": [
      "torch.Size([3, 5, 1]) torch.Size([3, 34]) torch.Size([3])\n"
     ]
    }
   ],
   "execution_count": 174
  },
  {
   "metadata": {
    "ExecuteTime": {
     "end_time": "2024-10-25T11:49:36.318998Z",
     "start_time": "2024-10-25T11:49:36.310906Z"
    }
   },
   "cell_type": "code",
   "source": "criterion(res, label)",
   "id": "7a73c7d35c347747",
   "outputs": [
    {
     "data": {
      "text/plain": [
       "tensor(3.5778, grad_fn=<NllLossBackward0>)"
      ]
     },
     "execution_count": 175,
     "metadata": {},
     "output_type": "execute_result"
    }
   ],
   "execution_count": 175
  },
  {
   "metadata": {
    "ExecuteTime": {
     "end_time": "2024-10-25T11:55:05.591061Z",
     "start_time": "2024-10-25T11:50:20.772498Z"
    }
   },
   "cell_type": "code",
   "source": [
    "# Training..\n",
    "max_epoch = 150\n",
    "total_loss = []\n",
    "for epoch in range(max_epoch):\n",
    "    model.train()\n",
    "    epoch_loss = 0\n",
    "    for inputs, labels in train_loader:\n",
    "        outputs = model(inputs)\n",
    "        labels = labels.reshape(batch_size)\n",
    "        loss = criterion(outputs, labels)\n",
    "        optimizer.zero_grad()\n",
    "        loss.backward()\n",
    "        optimizer.step()\n",
    "        \n",
    "        epoch_loss += loss.item()\n",
    "    total_loss.append(epoch_loss /  len(train_loader))\n",
    "    print(f\"Epoch[{epoch + 1}/{max_epoch}], Loss: {epoch_loss / len(train_loader)}\")\n",
    "        "
   ],
   "id": "889b6026b12207d1",
   "outputs": [
    {
     "ename": "KeyboardInterrupt",
     "evalue": "",
     "output_type": "error",
     "traceback": [
      "\u001B[1;31m---------------------------------------------------------------------------\u001B[0m",
      "\u001B[1;31mKeyboardInterrupt\u001B[0m                         Traceback (most recent call last)",
      "Cell \u001B[1;32mIn[176], line 13\u001B[0m\n\u001B[0;32m     11\u001B[0m     optimizer\u001B[38;5;241m.\u001B[39mzero_grad()\n\u001B[0;32m     12\u001B[0m     loss\u001B[38;5;241m.\u001B[39mbackward()\n\u001B[1;32m---> 13\u001B[0m     \u001B[43moptimizer\u001B[49m\u001B[38;5;241;43m.\u001B[39;49m\u001B[43mstep\u001B[49m\u001B[43m(\u001B[49m\u001B[43m)\u001B[49m\n\u001B[0;32m     15\u001B[0m     epoch_loss \u001B[38;5;241m+\u001B[39m\u001B[38;5;241m=\u001B[39m loss\u001B[38;5;241m.\u001B[39mitem()\n\u001B[0;32m     16\u001B[0m total_loss\u001B[38;5;241m.\u001B[39mappend(epoch_loss \u001B[38;5;241m/\u001B[39m  \u001B[38;5;28mlen\u001B[39m(train_loader))\n",
      "File \u001B[1;32m~\\AppData\\Local\\Programs\\Python\\Python312\\Lib\\site-packages\\torch\\optim\\optimizer.py:484\u001B[0m, in \u001B[0;36mOptimizer.profile_hook_step.<locals>.wrapper\u001B[1;34m(*args, **kwargs)\u001B[0m\n\u001B[0;32m    479\u001B[0m         \u001B[38;5;28;01melse\u001B[39;00m:\n\u001B[0;32m    480\u001B[0m             \u001B[38;5;28;01mraise\u001B[39;00m \u001B[38;5;167;01mRuntimeError\u001B[39;00m(\n\u001B[0;32m    481\u001B[0m                 \u001B[38;5;124mf\u001B[39m\u001B[38;5;124m\"\u001B[39m\u001B[38;5;132;01m{\u001B[39;00mfunc\u001B[38;5;132;01m}\u001B[39;00m\u001B[38;5;124m must return None or a tuple of (new_args, new_kwargs), but got \u001B[39m\u001B[38;5;132;01m{\u001B[39;00mresult\u001B[38;5;132;01m}\u001B[39;00m\u001B[38;5;124m.\u001B[39m\u001B[38;5;124m\"\u001B[39m\n\u001B[0;32m    482\u001B[0m             )\n\u001B[1;32m--> 484\u001B[0m out \u001B[38;5;241m=\u001B[39m \u001B[43mfunc\u001B[49m\u001B[43m(\u001B[49m\u001B[38;5;241;43m*\u001B[39;49m\u001B[43margs\u001B[49m\u001B[43m,\u001B[49m\u001B[43m \u001B[49m\u001B[38;5;241;43m*\u001B[39;49m\u001B[38;5;241;43m*\u001B[39;49m\u001B[43mkwargs\u001B[49m\u001B[43m)\u001B[49m\n\u001B[0;32m    485\u001B[0m \u001B[38;5;28mself\u001B[39m\u001B[38;5;241m.\u001B[39m_optimizer_step_code()\n\u001B[0;32m    487\u001B[0m \u001B[38;5;66;03m# call optimizer step post hooks\u001B[39;00m\n",
      "File \u001B[1;32m~\\AppData\\Local\\Programs\\Python\\Python312\\Lib\\site-packages\\torch\\optim\\optimizer.py:89\u001B[0m, in \u001B[0;36m_use_grad_for_differentiable.<locals>._use_grad\u001B[1;34m(self, *args, **kwargs)\u001B[0m\n\u001B[0;32m     87\u001B[0m     torch\u001B[38;5;241m.\u001B[39mset_grad_enabled(\u001B[38;5;28mself\u001B[39m\u001B[38;5;241m.\u001B[39mdefaults[\u001B[38;5;124m\"\u001B[39m\u001B[38;5;124mdifferentiable\u001B[39m\u001B[38;5;124m\"\u001B[39m])\n\u001B[0;32m     88\u001B[0m     torch\u001B[38;5;241m.\u001B[39m_dynamo\u001B[38;5;241m.\u001B[39mgraph_break()\n\u001B[1;32m---> 89\u001B[0m     ret \u001B[38;5;241m=\u001B[39m \u001B[43mfunc\u001B[49m\u001B[43m(\u001B[49m\u001B[38;5;28;43mself\u001B[39;49m\u001B[43m,\u001B[49m\u001B[43m \u001B[49m\u001B[38;5;241;43m*\u001B[39;49m\u001B[43margs\u001B[49m\u001B[43m,\u001B[49m\u001B[43m \u001B[49m\u001B[38;5;241;43m*\u001B[39;49m\u001B[38;5;241;43m*\u001B[39;49m\u001B[43mkwargs\u001B[49m\u001B[43m)\u001B[49m\n\u001B[0;32m     90\u001B[0m \u001B[38;5;28;01mfinally\u001B[39;00m:\n\u001B[0;32m     91\u001B[0m     torch\u001B[38;5;241m.\u001B[39m_dynamo\u001B[38;5;241m.\u001B[39mgraph_break()\n",
      "File \u001B[1;32m~\\AppData\\Local\\Programs\\Python\\Python312\\Lib\\site-packages\\torch\\optim\\adam.py:226\u001B[0m, in \u001B[0;36mAdam.step\u001B[1;34m(self, closure)\u001B[0m\n\u001B[0;32m    214\u001B[0m     beta1, beta2 \u001B[38;5;241m=\u001B[39m group[\u001B[38;5;124m\"\u001B[39m\u001B[38;5;124mbetas\u001B[39m\u001B[38;5;124m\"\u001B[39m]\n\u001B[0;32m    216\u001B[0m     has_complex \u001B[38;5;241m=\u001B[39m \u001B[38;5;28mself\u001B[39m\u001B[38;5;241m.\u001B[39m_init_group(\n\u001B[0;32m    217\u001B[0m         group,\n\u001B[0;32m    218\u001B[0m         params_with_grad,\n\u001B[1;32m   (...)\u001B[0m\n\u001B[0;32m    223\u001B[0m         state_steps,\n\u001B[0;32m    224\u001B[0m     )\n\u001B[1;32m--> 226\u001B[0m     \u001B[43madam\u001B[49m\u001B[43m(\u001B[49m\n\u001B[0;32m    227\u001B[0m \u001B[43m        \u001B[49m\u001B[43mparams_with_grad\u001B[49m\u001B[43m,\u001B[49m\n\u001B[0;32m    228\u001B[0m \u001B[43m        \u001B[49m\u001B[43mgrads\u001B[49m\u001B[43m,\u001B[49m\n\u001B[0;32m    229\u001B[0m \u001B[43m        \u001B[49m\u001B[43mexp_avgs\u001B[49m\u001B[43m,\u001B[49m\n\u001B[0;32m    230\u001B[0m \u001B[43m        \u001B[49m\u001B[43mexp_avg_sqs\u001B[49m\u001B[43m,\u001B[49m\n\u001B[0;32m    231\u001B[0m \u001B[43m        \u001B[49m\u001B[43mmax_exp_avg_sqs\u001B[49m\u001B[43m,\u001B[49m\n\u001B[0;32m    232\u001B[0m \u001B[43m        \u001B[49m\u001B[43mstate_steps\u001B[49m\u001B[43m,\u001B[49m\n\u001B[0;32m    233\u001B[0m \u001B[43m        \u001B[49m\u001B[43mamsgrad\u001B[49m\u001B[38;5;241;43m=\u001B[39;49m\u001B[43mgroup\u001B[49m\u001B[43m[\u001B[49m\u001B[38;5;124;43m\"\u001B[39;49m\u001B[38;5;124;43mamsgrad\u001B[39;49m\u001B[38;5;124;43m\"\u001B[39;49m\u001B[43m]\u001B[49m\u001B[43m,\u001B[49m\n\u001B[0;32m    234\u001B[0m \u001B[43m        \u001B[49m\u001B[43mhas_complex\u001B[49m\u001B[38;5;241;43m=\u001B[39;49m\u001B[43mhas_complex\u001B[49m\u001B[43m,\u001B[49m\n\u001B[0;32m    235\u001B[0m \u001B[43m        \u001B[49m\u001B[43mbeta1\u001B[49m\u001B[38;5;241;43m=\u001B[39;49m\u001B[43mbeta1\u001B[49m\u001B[43m,\u001B[49m\n\u001B[0;32m    236\u001B[0m \u001B[43m        \u001B[49m\u001B[43mbeta2\u001B[49m\u001B[38;5;241;43m=\u001B[39;49m\u001B[43mbeta2\u001B[49m\u001B[43m,\u001B[49m\n\u001B[0;32m    237\u001B[0m \u001B[43m        \u001B[49m\u001B[43mlr\u001B[49m\u001B[38;5;241;43m=\u001B[39;49m\u001B[43mgroup\u001B[49m\u001B[43m[\u001B[49m\u001B[38;5;124;43m\"\u001B[39;49m\u001B[38;5;124;43mlr\u001B[39;49m\u001B[38;5;124;43m\"\u001B[39;49m\u001B[43m]\u001B[49m\u001B[43m,\u001B[49m\n\u001B[0;32m    238\u001B[0m \u001B[43m        \u001B[49m\u001B[43mweight_decay\u001B[49m\u001B[38;5;241;43m=\u001B[39;49m\u001B[43mgroup\u001B[49m\u001B[43m[\u001B[49m\u001B[38;5;124;43m\"\u001B[39;49m\u001B[38;5;124;43mweight_decay\u001B[39;49m\u001B[38;5;124;43m\"\u001B[39;49m\u001B[43m]\u001B[49m\u001B[43m,\u001B[49m\n\u001B[0;32m    239\u001B[0m \u001B[43m        \u001B[49m\u001B[43meps\u001B[49m\u001B[38;5;241;43m=\u001B[39;49m\u001B[43mgroup\u001B[49m\u001B[43m[\u001B[49m\u001B[38;5;124;43m\"\u001B[39;49m\u001B[38;5;124;43meps\u001B[39;49m\u001B[38;5;124;43m\"\u001B[39;49m\u001B[43m]\u001B[49m\u001B[43m,\u001B[49m\n\u001B[0;32m    240\u001B[0m \u001B[43m        \u001B[49m\u001B[43mmaximize\u001B[49m\u001B[38;5;241;43m=\u001B[39;49m\u001B[43mgroup\u001B[49m\u001B[43m[\u001B[49m\u001B[38;5;124;43m\"\u001B[39;49m\u001B[38;5;124;43mmaximize\u001B[39;49m\u001B[38;5;124;43m\"\u001B[39;49m\u001B[43m]\u001B[49m\u001B[43m,\u001B[49m\n\u001B[0;32m    241\u001B[0m \u001B[43m        \u001B[49m\u001B[43mforeach\u001B[49m\u001B[38;5;241;43m=\u001B[39;49m\u001B[43mgroup\u001B[49m\u001B[43m[\u001B[49m\u001B[38;5;124;43m\"\u001B[39;49m\u001B[38;5;124;43mforeach\u001B[39;49m\u001B[38;5;124;43m\"\u001B[39;49m\u001B[43m]\u001B[49m\u001B[43m,\u001B[49m\n\u001B[0;32m    242\u001B[0m \u001B[43m        \u001B[49m\u001B[43mcapturable\u001B[49m\u001B[38;5;241;43m=\u001B[39;49m\u001B[43mgroup\u001B[49m\u001B[43m[\u001B[49m\u001B[38;5;124;43m\"\u001B[39;49m\u001B[38;5;124;43mcapturable\u001B[39;49m\u001B[38;5;124;43m\"\u001B[39;49m\u001B[43m]\u001B[49m\u001B[43m,\u001B[49m\n\u001B[0;32m    243\u001B[0m \u001B[43m        \u001B[49m\u001B[43mdifferentiable\u001B[49m\u001B[38;5;241;43m=\u001B[39;49m\u001B[43mgroup\u001B[49m\u001B[43m[\u001B[49m\u001B[38;5;124;43m\"\u001B[39;49m\u001B[38;5;124;43mdifferentiable\u001B[39;49m\u001B[38;5;124;43m\"\u001B[39;49m\u001B[43m]\u001B[49m\u001B[43m,\u001B[49m\n\u001B[0;32m    244\u001B[0m \u001B[43m        \u001B[49m\u001B[43mfused\u001B[49m\u001B[38;5;241;43m=\u001B[39;49m\u001B[43mgroup\u001B[49m\u001B[43m[\u001B[49m\u001B[38;5;124;43m\"\u001B[39;49m\u001B[38;5;124;43mfused\u001B[39;49m\u001B[38;5;124;43m\"\u001B[39;49m\u001B[43m]\u001B[49m\u001B[43m,\u001B[49m\n\u001B[0;32m    245\u001B[0m \u001B[43m        \u001B[49m\u001B[43mgrad_scale\u001B[49m\u001B[38;5;241;43m=\u001B[39;49m\u001B[38;5;28;43mgetattr\u001B[39;49m\u001B[43m(\u001B[49m\u001B[38;5;28;43mself\u001B[39;49m\u001B[43m,\u001B[49m\u001B[43m \u001B[49m\u001B[38;5;124;43m\"\u001B[39;49m\u001B[38;5;124;43mgrad_scale\u001B[39;49m\u001B[38;5;124;43m\"\u001B[39;49m\u001B[43m,\u001B[49m\u001B[43m \u001B[49m\u001B[38;5;28;43;01mNone\u001B[39;49;00m\u001B[43m)\u001B[49m\u001B[43m,\u001B[49m\n\u001B[0;32m    246\u001B[0m \u001B[43m        \u001B[49m\u001B[43mfound_inf\u001B[49m\u001B[38;5;241;43m=\u001B[39;49m\u001B[38;5;28;43mgetattr\u001B[39;49m\u001B[43m(\u001B[49m\u001B[38;5;28;43mself\u001B[39;49m\u001B[43m,\u001B[49m\u001B[43m \u001B[49m\u001B[38;5;124;43m\"\u001B[39;49m\u001B[38;5;124;43mfound_inf\u001B[39;49m\u001B[38;5;124;43m\"\u001B[39;49m\u001B[43m,\u001B[49m\u001B[43m \u001B[49m\u001B[38;5;28;43;01mNone\u001B[39;49;00m\u001B[43m)\u001B[49m\u001B[43m,\u001B[49m\n\u001B[0;32m    247\u001B[0m \u001B[43m    \u001B[49m\u001B[43m)\u001B[49m\n\u001B[0;32m    249\u001B[0m \u001B[38;5;28;01mreturn\u001B[39;00m loss\n",
      "File \u001B[1;32m~\\AppData\\Local\\Programs\\Python\\Python312\\Lib\\site-packages\\torch\\optim\\optimizer.py:161\u001B[0m, in \u001B[0;36m_disable_dynamo_if_unsupported.<locals>.wrapper.<locals>.maybe_fallback\u001B[1;34m(*args, **kwargs)\u001B[0m\n\u001B[0;32m    159\u001B[0m     \u001B[38;5;28;01mreturn\u001B[39;00m disabled_func(\u001B[38;5;241m*\u001B[39margs, \u001B[38;5;241m*\u001B[39m\u001B[38;5;241m*\u001B[39mkwargs)\n\u001B[0;32m    160\u001B[0m \u001B[38;5;28;01melse\u001B[39;00m:\n\u001B[1;32m--> 161\u001B[0m     \u001B[38;5;28;01mreturn\u001B[39;00m \u001B[43mfunc\u001B[49m\u001B[43m(\u001B[49m\u001B[38;5;241;43m*\u001B[39;49m\u001B[43margs\u001B[49m\u001B[43m,\u001B[49m\u001B[43m \u001B[49m\u001B[38;5;241;43m*\u001B[39;49m\u001B[38;5;241;43m*\u001B[39;49m\u001B[43mkwargs\u001B[49m\u001B[43m)\u001B[49m\n",
      "File \u001B[1;32m~\\AppData\\Local\\Programs\\Python\\Python312\\Lib\\site-packages\\torch\\optim\\adam.py:766\u001B[0m, in \u001B[0;36madam\u001B[1;34m(params, grads, exp_avgs, exp_avg_sqs, max_exp_avg_sqs, state_steps, foreach, capturable, differentiable, fused, grad_scale, found_inf, has_complex, amsgrad, beta1, beta2, lr, weight_decay, eps, maximize)\u001B[0m\n\u001B[0;32m    763\u001B[0m \u001B[38;5;28;01melse\u001B[39;00m:\n\u001B[0;32m    764\u001B[0m     func \u001B[38;5;241m=\u001B[39m _single_tensor_adam\n\u001B[1;32m--> 766\u001B[0m \u001B[43mfunc\u001B[49m\u001B[43m(\u001B[49m\n\u001B[0;32m    767\u001B[0m \u001B[43m    \u001B[49m\u001B[43mparams\u001B[49m\u001B[43m,\u001B[49m\n\u001B[0;32m    768\u001B[0m \u001B[43m    \u001B[49m\u001B[43mgrads\u001B[49m\u001B[43m,\u001B[49m\n\u001B[0;32m    769\u001B[0m \u001B[43m    \u001B[49m\u001B[43mexp_avgs\u001B[49m\u001B[43m,\u001B[49m\n\u001B[0;32m    770\u001B[0m \u001B[43m    \u001B[49m\u001B[43mexp_avg_sqs\u001B[49m\u001B[43m,\u001B[49m\n\u001B[0;32m    771\u001B[0m \u001B[43m    \u001B[49m\u001B[43mmax_exp_avg_sqs\u001B[49m\u001B[43m,\u001B[49m\n\u001B[0;32m    772\u001B[0m \u001B[43m    \u001B[49m\u001B[43mstate_steps\u001B[49m\u001B[43m,\u001B[49m\n\u001B[0;32m    773\u001B[0m \u001B[43m    \u001B[49m\u001B[43mamsgrad\u001B[49m\u001B[38;5;241;43m=\u001B[39;49m\u001B[43mamsgrad\u001B[49m\u001B[43m,\u001B[49m\n\u001B[0;32m    774\u001B[0m \u001B[43m    \u001B[49m\u001B[43mhas_complex\u001B[49m\u001B[38;5;241;43m=\u001B[39;49m\u001B[43mhas_complex\u001B[49m\u001B[43m,\u001B[49m\n\u001B[0;32m    775\u001B[0m \u001B[43m    \u001B[49m\u001B[43mbeta1\u001B[49m\u001B[38;5;241;43m=\u001B[39;49m\u001B[43mbeta1\u001B[49m\u001B[43m,\u001B[49m\n\u001B[0;32m    776\u001B[0m \u001B[43m    \u001B[49m\u001B[43mbeta2\u001B[49m\u001B[38;5;241;43m=\u001B[39;49m\u001B[43mbeta2\u001B[49m\u001B[43m,\u001B[49m\n\u001B[0;32m    777\u001B[0m \u001B[43m    \u001B[49m\u001B[43mlr\u001B[49m\u001B[38;5;241;43m=\u001B[39;49m\u001B[43mlr\u001B[49m\u001B[43m,\u001B[49m\n\u001B[0;32m    778\u001B[0m \u001B[43m    \u001B[49m\u001B[43mweight_decay\u001B[49m\u001B[38;5;241;43m=\u001B[39;49m\u001B[43mweight_decay\u001B[49m\u001B[43m,\u001B[49m\n\u001B[0;32m    779\u001B[0m \u001B[43m    \u001B[49m\u001B[43meps\u001B[49m\u001B[38;5;241;43m=\u001B[39;49m\u001B[43meps\u001B[49m\u001B[43m,\u001B[49m\n\u001B[0;32m    780\u001B[0m \u001B[43m    \u001B[49m\u001B[43mmaximize\u001B[49m\u001B[38;5;241;43m=\u001B[39;49m\u001B[43mmaximize\u001B[49m\u001B[43m,\u001B[49m\n\u001B[0;32m    781\u001B[0m \u001B[43m    \u001B[49m\u001B[43mcapturable\u001B[49m\u001B[38;5;241;43m=\u001B[39;49m\u001B[43mcapturable\u001B[49m\u001B[43m,\u001B[49m\n\u001B[0;32m    782\u001B[0m \u001B[43m    \u001B[49m\u001B[43mdifferentiable\u001B[49m\u001B[38;5;241;43m=\u001B[39;49m\u001B[43mdifferentiable\u001B[49m\u001B[43m,\u001B[49m\n\u001B[0;32m    783\u001B[0m \u001B[43m    \u001B[49m\u001B[43mgrad_scale\u001B[49m\u001B[38;5;241;43m=\u001B[39;49m\u001B[43mgrad_scale\u001B[49m\u001B[43m,\u001B[49m\n\u001B[0;32m    784\u001B[0m \u001B[43m    \u001B[49m\u001B[43mfound_inf\u001B[49m\u001B[38;5;241;43m=\u001B[39;49m\u001B[43mfound_inf\u001B[49m\u001B[43m,\u001B[49m\n\u001B[0;32m    785\u001B[0m \u001B[43m\u001B[49m\u001B[43m)\u001B[49m\n",
      "File \u001B[1;32m~\\AppData\\Local\\Programs\\Python\\Python312\\Lib\\site-packages\\torch\\optim\\adam.py:433\u001B[0m, in \u001B[0;36m_single_tensor_adam\u001B[1;34m(params, grads, exp_avgs, exp_avg_sqs, max_exp_avg_sqs, state_steps, grad_scale, found_inf, amsgrad, has_complex, beta1, beta2, lr, weight_decay, eps, maximize, capturable, differentiable)\u001B[0m\n\u001B[0;32m    430\u001B[0m     \u001B[38;5;28;01melse\u001B[39;00m:\n\u001B[0;32m    431\u001B[0m         denom \u001B[38;5;241m=\u001B[39m (exp_avg_sq\u001B[38;5;241m.\u001B[39msqrt() \u001B[38;5;241m/\u001B[39m bias_correction2_sqrt)\u001B[38;5;241m.\u001B[39madd_(eps)\n\u001B[1;32m--> 433\u001B[0m     \u001B[43mparam\u001B[49m\u001B[38;5;241;43m.\u001B[39;49m\u001B[43maddcdiv_\u001B[49m\u001B[43m(\u001B[49m\u001B[43mexp_avg\u001B[49m\u001B[43m,\u001B[49m\u001B[43m \u001B[49m\u001B[43mdenom\u001B[49m\u001B[43m,\u001B[49m\u001B[43m \u001B[49m\u001B[43mvalue\u001B[49m\u001B[38;5;241;43m=\u001B[39;49m\u001B[38;5;241;43m-\u001B[39;49m\u001B[43mstep_size\u001B[49m\u001B[43m)\u001B[49m\n\u001B[0;32m    435\u001B[0m \u001B[38;5;66;03m# Lastly, switch back to complex view\u001B[39;00m\n\u001B[0;32m    436\u001B[0m \u001B[38;5;28;01mif\u001B[39;00m amsgrad \u001B[38;5;129;01mand\u001B[39;00m torch\u001B[38;5;241m.\u001B[39mis_complex(params[i]):\n",
      "\u001B[1;31mKeyboardInterrupt\u001B[0m: "
     ]
    }
   ],
   "execution_count": 176
  },
  {
   "metadata": {
    "ExecuteTime": {
     "end_time": "2024-10-25T11:30:38.842078Z",
     "start_time": "2024-10-25T11:30:38.650379Z"
    }
   },
   "cell_type": "code",
   "source": [
    "plt.plot(total_loss)\n",
    "plt.xlabel('Epoch')\n",
    "plt.legend(['Loss'])\n",
    "plt.grid()\n",
    "plt.show()"
   ],
   "id": "1149f58cf233c37",
   "outputs": [
    {
     "data": {
      "text/plain": [
       "<Figure size 640x480 with 1 Axes>"
      ],
      "image/png": "[encoded data removed]"
     },
     "metadata": {},
     "output_type": "display_data"
    }
   ],
   "execution_count": 106
  },
  {
   "metadata": {
    "ExecuteTime": {
     "end_time": "2024-10-25T11:30:45.372502Z",
     "start_time": "2024-10-25T11:30:39.453486Z"
    }
   },
   "cell_type": "code",
   "source": [
    "# Testing\n",
    "model.eval()\n",
    "total = 0\n",
    "correct = 0\n",
    "with torch.no_grad():\n",
    "    for inputs, labels in test_loader:\n",
    "        result = model(inputs)\n",
    "        predict = torch.argmax(result, dim=1)\n",
    "        total += len(labels)\n",
    "        correct += sum([all(labels[i] == predict[i]) for i in range(len(labels))])\n"
   ],
   "id": "29f18e877eb82fcf",
   "outputs": [],
   "execution_count": 107
  },
  {
   "metadata": {
    "ExecuteTime": {
     "end_time": "2024-10-25T11:30:45.380293Z",
     "start_time": "2024-10-25T11:30:45.373502Z"
    }
   },
   "cell_type": "code",
   "source": [
    "print(total)\n",
    "print(correct)\n",
    "accuracy = 100 * correct / total\n",
    "print(f'Accuracy: {accuracy:.2f}%')"
   ],
   "id": "6577945be2a5d956",
   "outputs": [
    {
     "name": "stdout",
     "output_type": "stream",
     "text": [
      "16456\n",
      "7997\n",
      "Accuracy: 48.60%\n"
     ]
    }
   ],
   "execution_count": 108
  },
  {
   "metadata": {
    "ExecuteTime": {
     "end_time": "2024-10-25T11:47:55.322574Z",
     "start_time": "2024-10-25T11:47:54.416062Z"
    }
   },
   "cell_type": "code",
   "source": [
    "def get_str(inp_str, len_str=300):\n",
    "    model.eval()\n",
    "    for i in range(len_str):\n",
    "        x = []\n",
    "        for j in range(i, i + 5):\n",
    "            x.append(*encoder_text(inp_str[j]))\n",
    "            \n",
    "        x = torch.tensor(x).reshape(-1, 5)\n",
    "        output = model(x)\n",
    "        \n",
    "        predict = output[0].detach()\n",
    "        predict = torch.tensor(predict)\n",
    "        predict[predict < 0] = 0\n",
    "        predict /= len(predict)\n",
    "        predict[predict <= 0.009] = 0\n",
    "        predict = torch.multinomial(predict, 1)\n",
    "        char = idx2char[predict - 1]\n",
    "        inp_str += char\n",
    "    return inp_str\n",
    "\n",
    "print(get_str('когда'))"
   ],
   "id": "e67cb4d906ff3edc",
   "outputs": [
    {
     "name": "stderr",
     "output_type": "stream",
     "text": [
      "C:\\Users\\Denis\\AppData\\Local\\Temp\\ipykernel_11100\\1474730223.py:12: UserWarning: To copy construct from a tensor, it is recommended to use sourceTensor.clone().detach() or sourceTensor.clone().detach().requires_grad_(True), rather than torch.tensor(sourceTensor).\n",
      "  predict = torch.tensor(predict)\n"
     ]
    },
    {
     "name": "stdout",
     "output_type": "stream",
     "text": [
      "когда букную о тотчывтам мное ниглягда взвише ахупулсяти и кошии  о песлия можененыт всю езьгою булжыйды такую питеническорвояскордый и нус твломиезда и уейто пите слюшсей кажитыйны чекрацщившийшего двлыйшемнегую казщиексойкатьи рублечимогчато вырво она стутвожну и васию извующннавбедст кольникегаходышат\n"
     ]
    }
   ],
   "execution_count": 165
  },
  {
   "metadata": {
    "ExecuteTime": {
     "end_time": "2024-10-25T11:35:08.617539Z",
     "start_time": "2024-10-25T11:35:08.612835Z"
    }
   },
   "cell_type": "code",
   "source": "a = torch.tensor([20, 0.8])",
   "id": "eea8bee08db5fee9",
   "outputs": [],
   "execution_count": 121
  },
  {
   "metadata": {
    "ExecuteTime": {
     "end_time": "2024-10-25T11:35:12.344147Z",
     "start_time": "2024-10-25T11:35:12.336917Z"
    }
   },
   "cell_type": "code",
   "source": "torch.multinomial(a, 1)",
   "id": "5a1541163f603290",
   "outputs": [
    {
     "data": {
      "text/plain": [
       "tensor([0])"
      ]
     },
     "execution_count": 124,
     "metadata": {},
     "output_type": "execute_result"
    }
   ],
   "execution_count": 124
  },
  {
   "metadata": {},
   "cell_type": "code",
   "outputs": [],
   "execution_count": null,
   "source": "",
   "id": "4ed45c2db697051a"
  }
 ],
 "metadata": {
  "kernelspec": {
   "display_name": "Python 3",
   "language": "python",
   "name": "python3"
  },
  "language_info": {
   "codemirror_mode": {
    "name": "ipython",
    "version": 2
   },
   "file_extension": ".py",
   "mimetype": "text/x-python",
   "name": "python",
   "nbconvert_exporter": "python",
   "pygments_lexer": "ipython2",
   "version": "2.7.6"
  }
 },
 "nbformat": 4,
 "nbformat_minor": 5
}
